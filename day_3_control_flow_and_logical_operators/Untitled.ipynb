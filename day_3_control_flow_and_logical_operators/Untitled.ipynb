{
 "cells": [
  {
   "cell_type": "code",
   "execution_count": 1,
   "id": "d7892be8",
   "metadata": {},
   "outputs": [
    {
     "name": "stdout",
     "output_type": "stream",
     "text": [
      "Welcome to Treasure Island.\n",
      "Your mission is  to find the treasure.\n",
      "You're at crossroad, where do you want to go? Type \"left\" or \"right\"\n",
      "left\n",
      "You've come to a lake. Type  \"wait\" to wait for a boat. Type \"swim\" to swim across.\n",
      "wait\n",
      "You arrived at the island unharmed. There is a house with 3 doors. Red, yellow and blue. Which color do you choose?\n",
      "yellow\n",
      "You found the treasure.\n"
     ]
    }
   ],
   "source": [
    "print(\"Welcome to Treasure Island.\")\n",
    "print(\"Your mission is  to find the treasure.\")\n",
    "choice1 = input('You\\'re at crossroad, where do you want to go? Type \"left\" or \"right\"\\n').lower()\n",
    "if choice1 == \"left\":\n",
    " choice2 = input('You\\'ve come to a lake. Type  \"wait\" to wait for a boat. Type \"swim\" to swim across.\\n').lower()\n",
    " if choice2 == \"wait\":\n",
    "    choice3 = input(\"You arrived at the island unharmed. There is a house with 3 doors. Red, yellow and blue. Which color do you choose?\\n\").lower()\n",
    "    if choice3 == \"red\":\n",
    "      print(\"Game Over.\")\n",
    "    elif choice3 == \"yellow\":\n",
    "      print(\"You found the treasure.\")\n",
    "    elif  choice3 == \"blue\":\n",
    "      print(\"You enter a beast  room. Game over.\")\n",
    "    else:\n",
    "      print(\"You chose a door that doesn't exist. Game Over.\")\n",
    " else:\n",
    "   print(\"You get attacked by a  trout. game over.\")\n",
    "else:\n",
    "   print(\"You fell  into a hole. Game  over\")\n"
   ]
  },
  {
   "cell_type": "code",
   "execution_count": null,
   "id": "164bebde",
   "metadata": {},
   "outputs": [],
   "source": []
  }
 ],
 "metadata": {
  "kernelspec": {
   "display_name": "Python 3 (ipykernel)",
   "language": "python",
   "name": "python3"
  },
  "language_info": {
   "codemirror_mode": {
    "name": "ipython",
    "version": 3
   },
   "file_extension": ".py",
   "mimetype": "text/x-python",
   "name": "python",
   "nbconvert_exporter": "python",
   "pygments_lexer": "ipython3",
   "version": "3.10.9"
  }
 },
 "nbformat": 4,
 "nbformat_minor": 5
}
