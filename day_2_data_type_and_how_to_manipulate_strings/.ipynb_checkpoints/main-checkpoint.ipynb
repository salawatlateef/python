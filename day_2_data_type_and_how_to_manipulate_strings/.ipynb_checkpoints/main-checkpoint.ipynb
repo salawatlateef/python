{
 "cells": [
  {
   "cell_type": "code",
   "execution_count": 1,
   "id": "c4c866c5",
   "metadata": {},
   "outputs": [
    {
     "name": "stdout",
     "output_type": "stream",
     "text": [
      "Welcome to the tip calculator\n",
      "What was the total bill? $56\n",
      "What percentage tip would you like to give? 10, 12, or 15?10\n",
      "How many people are to spit the bill?6\n",
      "Each person should pay 10.27dollars\n"
     ]
    }
   ],
   "source": [
    "3 * 3 + 3 / 3 -3\n",
    "\n",
    "\n",
    "\n",
    "print(\"Welcome to the tip calculator\")\n",
    "bill = float(input(\"What was the total bill? $\"))\n",
    "\n",
    "tip = int(input(\"What percentage tip would you like to give? 10, 12, or 15?\"))\n",
    "\n",
    "people = int(input(\"How many people are to spit the bill?\"))\n",
    "\n",
    "bill_with_tip= tip / 100 * bill + bill\n",
    "bill_per_person = bill_with_tip / people\n",
    "final_amount = round(bill_per_person, 2)\n",
    "print(\"Each person should pay \" + str(final_amount) + \"dollars\")\n",
    "\n"
   ]
  },
  {
   "cell_type": "code",
   "execution_count": null,
   "id": "810deb39",
   "metadata": {},
   "outputs": [],
   "source": []
  }
 ],
 "metadata": {
  "kernelspec": {
   "display_name": "Python 3 (ipykernel)",
   "language": "python",
   "name": "python3"
  },
  "language_info": {
   "codemirror_mode": {
    "name": "ipython",
    "version": 3
   },
   "file_extension": ".py",
   "mimetype": "text/x-python",
   "name": "python",
   "nbconvert_exporter": "python",
   "pygments_lexer": "ipython3",
   "version": "3.10.9"
  }
 },
 "nbformat": 4,
 "nbformat_minor": 5
}
